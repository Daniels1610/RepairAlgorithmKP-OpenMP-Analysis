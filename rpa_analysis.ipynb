{
 "cells": [
  {
   "cell_type": "markdown",
   "metadata": {},
   "source": [
    "# KP's Repair Algorithm - Parallel Analysis"
   ]
  },
  {
   "cell_type": "markdown",
   "metadata": {},
   "source": [
    "#### CPU Specifications (Axel's PC) TEMPLATE\n",
    "| Feature     | Specification |\n",
    "|-------------| ------------- |\n",
    "| Model| Intel Core i7-12700H |\n",
    "| Physical Threads (Cores)| 14 |\n",
    "| Logical Threads | 20 |\n",
    "| Base Clock | 2.30GHz |\n",
    "| Cache | 24MB L3 |\n",
    "| RAM Size | 16GB |\n",
    "| RAM Type | DDR4 |"
   ]
  },
  {
   "cell_type": "code",
   "execution_count": 3,
   "metadata": {},
   "outputs": [],
   "source": [
    "import pandas as pd\n",
    "import numpy as np\n",
    "import matplotlib.pyplot as plt\n",
    "\n",
    "# Display Pandas Dataframes Settings\n",
    "pd.set_option('display.max_rows', 500)\n",
    "pd.set_option('display.max_columns', 500)\n",
    "pd.set_option('display.width', 1000)\n",
    "\n",
    "PHYSICAL_THREADS = 16"
   ]
  },
  {
   "cell_type": "code",
   "execution_count": 5,
   "metadata": {},
   "outputs": [
    {
     "ename": "EmptyDataError",
     "evalue": "No columns to parse from file",
     "output_type": "error",
     "traceback": [
      "\u001b[0;31m---------------------------------------------------------------------------\u001b[0m",
      "\u001b[0;31mEmptyDataError\u001b[0m                            Traceback (most recent call last)",
      "\u001b[1;32m/Users/kekaz16/Desktop/RepairAlgorithm-KP/rpa_analysis.ipynb Cell 4\u001b[0m line \u001b[0;36m1\n\u001b[0;32m----> <a href='vscode-notebook-cell:/Users/kekaz16/Desktop/RepairAlgorithm-KP/rpa_analysis.ipynb#W6sZmlsZQ%3D%3D?line=0'>1</a>\u001b[0m serial_data \u001b[39m=\u001b[39m pd\u001b[39m.\u001b[39;49mread_csv(\u001b[39m\"\u001b[39;49m\u001b[39mresults/rpa_serial.csv\u001b[39;49m\u001b[39m\"\u001b[39;49m)\u001b[39m.\u001b[39mto_numpy()\n\u001b[1;32m      <a href='vscode-notebook-cell:/Users/kekaz16/Desktop/RepairAlgorithm-KP/rpa_analysis.ipynb#W6sZmlsZQ%3D%3D?line=1'>2</a>\u001b[0m \u001b[39m# spmd_data = pd.read_csv(\"datasets/rpa_spmd\").to_numpy()\u001b[39;00m\n\u001b[1;32m      <a href='vscode-notebook-cell:/Users/kekaz16/Desktop/RepairAlgorithm-KP/rpa_analysis.ipynb#W6sZmlsZQ%3D%3D?line=2'>3</a>\u001b[0m \u001b[39m# sstatic\u001b[39;00m\n\u001b[1;32m      <a href='vscode-notebook-cell:/Users/kekaz16/Desktop/RepairAlgorithm-KP/rpa_analysis.ipynb#W6sZmlsZQ%3D%3D?line=3'>4</a>\u001b[0m \u001b[39m# sdynamic\u001b[39;00m\n\u001b[0;32m   (...)\u001b[0m\n\u001b[1;32m      <a href='vscode-notebook-cell:/Users/kekaz16/Desktop/RepairAlgorithm-KP/rpa_analysis.ipynb#W6sZmlsZQ%3D%3D?line=7'>8</a>\u001b[0m \u001b[39m# thread_private\u001b[39;00m\n\u001b[1;32m      <a href='vscode-notebook-cell:/Users/kekaz16/Desktop/RepairAlgorithm-KP/rpa_analysis.ipynb#W6sZmlsZQ%3D%3D?line=8'>9</a>\u001b[0m \u001b[39m# task\u001b[39;00m\n\u001b[1;32m     <a href='vscode-notebook-cell:/Users/kekaz16/Desktop/RepairAlgorithm-KP/rpa_analysis.ipynb#W6sZmlsZQ%3D%3D?line=10'>11</a>\u001b[0m threads_array \u001b[39m=\u001b[39m np\u001b[39m.\u001b[39marange(start\u001b[39m=\u001b[39m\u001b[39m1\u001b[39m,stop\u001b[39m=\u001b[39mPHYSICAL_THREADS\u001b[39m+\u001b[39m\u001b[39m1\u001b[39m) \u001b[39m# Returns numpy array from 1 (Inclusive) to 17 (Exclusive)\u001b[39;00m\n",
      "File \u001b[0;32m~/Desktop/RepairAlgorithm-KP/venv/lib/python3.11/site-packages/pandas/io/parsers/readers.py:948\u001b[0m, in \u001b[0;36mread_csv\u001b[0;34m(filepath_or_buffer, sep, delimiter, header, names, index_col, usecols, dtype, engine, converters, true_values, false_values, skipinitialspace, skiprows, skipfooter, nrows, na_values, keep_default_na, na_filter, verbose, skip_blank_lines, parse_dates, infer_datetime_format, keep_date_col, date_parser, date_format, dayfirst, cache_dates, iterator, chunksize, compression, thousands, decimal, lineterminator, quotechar, quoting, doublequote, escapechar, comment, encoding, encoding_errors, dialect, on_bad_lines, delim_whitespace, low_memory, memory_map, float_precision, storage_options, dtype_backend)\u001b[0m\n\u001b[1;32m    935\u001b[0m kwds_defaults \u001b[39m=\u001b[39m _refine_defaults_read(\n\u001b[1;32m    936\u001b[0m     dialect,\n\u001b[1;32m    937\u001b[0m     delimiter,\n\u001b[0;32m   (...)\u001b[0m\n\u001b[1;32m    944\u001b[0m     dtype_backend\u001b[39m=\u001b[39mdtype_backend,\n\u001b[1;32m    945\u001b[0m )\n\u001b[1;32m    946\u001b[0m kwds\u001b[39m.\u001b[39mupdate(kwds_defaults)\n\u001b[0;32m--> 948\u001b[0m \u001b[39mreturn\u001b[39;00m _read(filepath_or_buffer, kwds)\n",
      "File \u001b[0;32m~/Desktop/RepairAlgorithm-KP/venv/lib/python3.11/site-packages/pandas/io/parsers/readers.py:611\u001b[0m, in \u001b[0;36m_read\u001b[0;34m(filepath_or_buffer, kwds)\u001b[0m\n\u001b[1;32m    608\u001b[0m _validate_names(kwds\u001b[39m.\u001b[39mget(\u001b[39m\"\u001b[39m\u001b[39mnames\u001b[39m\u001b[39m\"\u001b[39m, \u001b[39mNone\u001b[39;00m))\n\u001b[1;32m    610\u001b[0m \u001b[39m# Create the parser.\u001b[39;00m\n\u001b[0;32m--> 611\u001b[0m parser \u001b[39m=\u001b[39m TextFileReader(filepath_or_buffer, \u001b[39m*\u001b[39;49m\u001b[39m*\u001b[39;49mkwds)\n\u001b[1;32m    613\u001b[0m \u001b[39mif\u001b[39;00m chunksize \u001b[39mor\u001b[39;00m iterator:\n\u001b[1;32m    614\u001b[0m     \u001b[39mreturn\u001b[39;00m parser\n",
      "File \u001b[0;32m~/Desktop/RepairAlgorithm-KP/venv/lib/python3.11/site-packages/pandas/io/parsers/readers.py:1448\u001b[0m, in \u001b[0;36mTextFileReader.__init__\u001b[0;34m(self, f, engine, **kwds)\u001b[0m\n\u001b[1;32m   1445\u001b[0m     \u001b[39mself\u001b[39m\u001b[39m.\u001b[39moptions[\u001b[39m\"\u001b[39m\u001b[39mhas_index_names\u001b[39m\u001b[39m\"\u001b[39m] \u001b[39m=\u001b[39m kwds[\u001b[39m\"\u001b[39m\u001b[39mhas_index_names\u001b[39m\u001b[39m\"\u001b[39m]\n\u001b[1;32m   1447\u001b[0m \u001b[39mself\u001b[39m\u001b[39m.\u001b[39mhandles: IOHandles \u001b[39m|\u001b[39m \u001b[39mNone\u001b[39;00m \u001b[39m=\u001b[39m \u001b[39mNone\u001b[39;00m\n\u001b[0;32m-> 1448\u001b[0m \u001b[39mself\u001b[39m\u001b[39m.\u001b[39m_engine \u001b[39m=\u001b[39m \u001b[39mself\u001b[39;49m\u001b[39m.\u001b[39;49m_make_engine(f, \u001b[39mself\u001b[39;49m\u001b[39m.\u001b[39;49mengine)\n",
      "File \u001b[0;32m~/Desktop/RepairAlgorithm-KP/venv/lib/python3.11/site-packages/pandas/io/parsers/readers.py:1723\u001b[0m, in \u001b[0;36mTextFileReader._make_engine\u001b[0;34m(self, f, engine)\u001b[0m\n\u001b[1;32m   1720\u001b[0m     \u001b[39mraise\u001b[39;00m \u001b[39mValueError\u001b[39;00m(msg)\n\u001b[1;32m   1722\u001b[0m \u001b[39mtry\u001b[39;00m:\n\u001b[0;32m-> 1723\u001b[0m     \u001b[39mreturn\u001b[39;00m mapping[engine](f, \u001b[39m*\u001b[39;49m\u001b[39m*\u001b[39;49m\u001b[39mself\u001b[39;49m\u001b[39m.\u001b[39;49moptions)\n\u001b[1;32m   1724\u001b[0m \u001b[39mexcept\u001b[39;00m \u001b[39mException\u001b[39;00m:\n\u001b[1;32m   1725\u001b[0m     \u001b[39mif\u001b[39;00m \u001b[39mself\u001b[39m\u001b[39m.\u001b[39mhandles \u001b[39mis\u001b[39;00m \u001b[39mnot\u001b[39;00m \u001b[39mNone\u001b[39;00m:\n",
      "File \u001b[0;32m~/Desktop/RepairAlgorithm-KP/venv/lib/python3.11/site-packages/pandas/io/parsers/c_parser_wrapper.py:93\u001b[0m, in \u001b[0;36mCParserWrapper.__init__\u001b[0;34m(self, src, **kwds)\u001b[0m\n\u001b[1;32m     90\u001b[0m \u001b[39mif\u001b[39;00m kwds[\u001b[39m\"\u001b[39m\u001b[39mdtype_backend\u001b[39m\u001b[39m\"\u001b[39m] \u001b[39m==\u001b[39m \u001b[39m\"\u001b[39m\u001b[39mpyarrow\u001b[39m\u001b[39m\"\u001b[39m:\n\u001b[1;32m     91\u001b[0m     \u001b[39m# Fail here loudly instead of in cython after reading\u001b[39;00m\n\u001b[1;32m     92\u001b[0m     import_optional_dependency(\u001b[39m\"\u001b[39m\u001b[39mpyarrow\u001b[39m\u001b[39m\"\u001b[39m)\n\u001b[0;32m---> 93\u001b[0m \u001b[39mself\u001b[39m\u001b[39m.\u001b[39m_reader \u001b[39m=\u001b[39m parsers\u001b[39m.\u001b[39;49mTextReader(src, \u001b[39m*\u001b[39;49m\u001b[39m*\u001b[39;49mkwds)\n\u001b[1;32m     95\u001b[0m \u001b[39mself\u001b[39m\u001b[39m.\u001b[39munnamed_cols \u001b[39m=\u001b[39m \u001b[39mself\u001b[39m\u001b[39m.\u001b[39m_reader\u001b[39m.\u001b[39munnamed_cols\n\u001b[1;32m     97\u001b[0m \u001b[39m# error: Cannot determine type of 'names'\u001b[39;00m\n",
      "File \u001b[0;32mparsers.pyx:586\u001b[0m, in \u001b[0;36mpandas._libs.parsers.TextReader.__cinit__\u001b[0;34m()\u001b[0m\n",
      "\u001b[0;31mEmptyDataError\u001b[0m: No columns to parse from file"
     ]
    }
   ],
   "source": [
    "serial_data = pd.read_csv(\"results/rpa_serial.csv\").to_numpy()\n",
    "# spmd_data = pd.read_csv(\"datasets/rpa_spmd\").to_numpy()\n",
    "# sstatic\n",
    "# sdynamic\n",
    "# sguided\n",
    "# sauto\n",
    "# producer_consumer\n",
    "# thread_private\n",
    "# task\n",
    "\n",
    "threads_array = np.arange(start=1,stop=PHYSICAL_THREADS+1) # Returns numpy array from 1 (Inclusive) to 17 (Exclusive)\n",
    "\n",
    "algorithm_data = pd.DataFrame(columns=\n",
    "    ['ThreadQty', \n",
    "     'Code 1 (SPMD)',\n",
    "    ])\n",
    "\n",
    "columns = pd.MultiIndex.from_product([['Speedup', 'Efficiency', 'Parallelizability']], names=[''])\n",
    "codes = ['SPMD']\n",
    "rows = pd.MultiIndex.from_tuples([(thread, code) for thread in threads_array for code in codes], names=['ThreadQty', ''])\n",
    "algorithm_metrics = pd.DataFrame(index=rows, columns=columns)"
   ]
  },
  {
   "cell_type": "code",
   "execution_count": null,
   "metadata": {},
   "outputs": [],
   "source": [
    "secuential_data = pd.DataFrame(columns=['Code 0 (Serial)'])\n",
    "secuential_data.loc['1'] = np.mean(serial_data)\n",
    "print(\"\\033[1mSecuential Algorithm Execution Time:\\033[0m\\n \\tNPOINTS: 1000\\tMAXITER: 1000\\n \\tTimes Executed per Thread: 5\")\n",
    "secuential_data"
   ]
  },
  {
   "cell_type": "code",
   "execution_count": null,
   "metadata": {},
   "outputs": [],
   "source": [
    "for index in range(len(spmd_data)):\n",
    "    algorithm_data.loc[f'{index+1}'] = [\n",
    "        f'{threads_array[index]}', \n",
    "        np.mean(spmd_data[index]), \n",
    "        # np.mean(spmd_parfor_data[index]),\n",
    "        # np.mean(sstatic_data[index]),\n",
    "        # np.mean(sdynamic_data[index]),\n",
    "        # np.mean(sguided_data[index]),\n",
    "        # np.mean(sauto_data[index]),\n",
    "        # np.mean(task_data[index])\n",
    "    ]\n",
    "\n",
    "algorithm_data.set_index('ThreadQty', inplace=True)\n",
    "print(\"\\033[1mParallel Algorithm Analysis:\\033[0m\\n \\tNPOINTS: 1000\\tMAXITER: 1000\\n \\tTimes Executed per Thread: 5\")\n",
    "algorithm_data"
   ]
  },
  {
   "cell_type": "code",
   "execution_count": null,
   "metadata": {},
   "outputs": [],
   "source": [
    "for index in range(len(threads_array)):\n",
    "    for j in range(len(codes)):\n",
    "        speedup = secuential_data.iat[0, 0] / np.round(algorithm_data.iat[index, j], 6)\n",
    "        efficiency = np.round((speedup / algorithm_data.iat[index, j]) * 100, 2)\n",
    "        parallelizability = np.round(algorithm_data.iat[0, j] / algorithm_data.iat[index, j],3)\n",
    "\n",
    "        algorithm_metrics.at[(threads_array[index], codes[j]), ('Speedup')] = speedup\n",
    "        algorithm_metrics.at[(threads_array[index], codes[j]), ('Efficiency')] = f'{efficiency}%'\n",
    "        algorithm_metrics.at[(threads_array[index], codes[j]), ('Parallelizability')] = parallelizability\n",
    "        \n",
    "print(\"\\033[1mAlgorithms Metrics\\033[0m\")\n",
    "algorithm_metrics"
   ]
  },
  {
   "cell_type": "code",
   "execution_count": null,
   "metadata": {},
   "outputs": [],
   "source": [
    "plt.title(\"Algorithm Thread Analysis Overview\")\n",
    "plt.xlabel(\"Number of Threads\")\n",
    "plt.ylabel(\"Execution Time (Seconds)\")\n",
    "plt.plot(threads_array, algorithm_data.get('Code 1 (SPMD)'), 'o--', label=\"C1 SPMD\", color='green')\n",
    "# plt.plot(threads_array, algorithm_data.get('Code 2 (SPMD ParFor)'), 'v--', label=\"C2 SPMD ParFor\", color='magenta')\n",
    "# plt.plot(threads_array, algorithm_data.get('Code 3 (Static)'), 'd--', label=\"C2 Static\", color='orange')\n",
    "# plt.plot(threads_array, algorithm_data.get('Code 4 (Dynamic)'), '1--', label=\"C3 Dynamic\", color='yellowgreen')\n",
    "# plt.plot(threads_array, algorithm_data.get('Code 5 (Guided)'), '.--', label=\"C4 Guided\", color='chocolate')\n",
    "# plt.plot(threads_array, algorithm_data.get('Code 6 (Auto)'), 's--', label=\"C5 Auto\", color='silver')\n",
    "# plt.plot(threads_array, algorithm_data.get('Code 7 (Task)'), '8-', label=\"C6 Task\", color='cyan')\n",
    "plt.legend(loc=\"lower right\")\n",
    "plt.xticks(threads_array)\n",
    "plt.show()"
   ]
  }
 ],
 "metadata": {
  "kernelspec": {
   "display_name": "venv",
   "language": "python",
   "name": "python3"
  },
  "language_info": {
   "codemirror_mode": {
    "name": "ipython",
    "version": 3
   },
   "file_extension": ".py",
   "mimetype": "text/x-python",
   "name": "python",
   "nbconvert_exporter": "python",
   "pygments_lexer": "ipython3",
   "version": "3.11.5"
  }
 },
 "nbformat": 4,
 "nbformat_minor": 2
}
